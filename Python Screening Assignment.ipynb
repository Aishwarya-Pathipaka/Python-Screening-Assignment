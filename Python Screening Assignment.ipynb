{
 "cells": [
  {
   "cell_type": "markdown",
   "id": "ff38fab4",
   "metadata": {},
   "source": [
    "## 1. Create a function in python to read the text file and replace specific content of the file.\n",
    "\n",
    "\n",
    "File name - example.txt\n",
    "\n",
    "Origin file content - This is a placement assignment\n",
    "\n",
    "Replace string - Placement should be replaced by screening.\n",
    "\n",
    "Replaced file content - This is a screening assignment"
   ]
  },
  {
   "cell_type": "code",
   "execution_count": 34,
   "id": "112627c4",
   "metadata": {},
   "outputs": [],
   "source": [
    "with open('example.txt', \"w\") as f:\n",
    "    f.write(\"This is a placement assignment\")\n",
    "    f.close()"
   ]
  },
  {
   "cell_type": "code",
   "execution_count": 35,
   "id": "bd070c1b",
   "metadata": {},
   "outputs": [],
   "source": [
    "def readfile(filename):\n",
    "    filename=open(filename,'r')\n",
    "    filename=filename.read()\n",
    "    filename=filename.replace('placement', 'screening')\n",
    "    print(filename)"
   ]
  },
  {
   "cell_type": "code",
   "execution_count": 36,
   "id": "a94e0c2a",
   "metadata": {},
   "outputs": [
    {
     "name": "stdout",
     "output_type": "stream",
     "text": [
      "This is a screening assignment\n"
     ]
    }
   ],
   "source": [
    "readfile('example.txt')"
   ]
  },
  {
   "cell_type": "markdown",
   "id": "b10a1d96",
   "metadata": {},
   "source": [
    "## 2. Demonstrate use of abstract class, multiple inheritance and decorator in python using examples."
   ]
  },
  {
   "cell_type": "markdown",
   "id": "2e2d5a29",
   "metadata": {},
   "source": [
    "## Abstract class\n",
    " \n",
    " A class which contains one or more abstract methods is called an abstract class. An abstract method is a method that has a declaration but does not have an implementation. While we are designing large functional units we use an abstract class. When we want to provide a common interface for different implementations of a component, we use an abstract class. "
   ]
  },
  {
   "cell_type": "code",
   "execution_count": 40,
   "id": "9449b9e4",
   "metadata": {},
   "outputs": [],
   "source": [
    "from abc import ABC, abstractmethod\n"
   ]
  },
  {
   "cell_type": "code",
   "execution_count": 50,
   "id": "17c3b84a",
   "metadata": {},
   "outputs": [],
   "source": [
    "class Phone(ABC):\n",
    "    def Storage(self):\n",
    "        pass\n",
    "    \n",
    "class Redmi(Phone):\n",
    "    def Storage(self):\n",
    "        print(\"The Storage is 64GB\")\n",
    "        \n",
    "class Realme(Phone):\n",
    "    def Storage(self):\n",
    "        print(\"The Storage is 32GB\")\n",
    "        \n",
    "class Iphone(Phone):\n",
    "    def Storage(self):\n",
    "        print(\"The Storage is 116GB\")\n",
    "        \n",
    "class oneplus(Phone):\n",
    "    def Storage(self):\n",
    "        print(\"The Storage is 8GB\")"
   ]
  },
  {
   "cell_type": "code",
   "execution_count": 54,
   "id": "7970abb7",
   "metadata": {},
   "outputs": [
    {
     "name": "stdout",
     "output_type": "stream",
     "text": [
      "The Storage is 64GB\n",
      "The Storage is 32GB\n",
      "The Storage is 116GB\n",
      "The Storage is 8GB\n"
     ]
    }
   ],
   "source": [
    "t= Redmi()   \n",
    "t.Storage()   \n",
    "  \n",
    "a = Realme()   \n",
    "a.Storage()   \n",
    "  \n",
    "a1 = Iphone()   \n",
    "a1.Storage() \n",
    "\n",
    "f = oneplus()   \n",
    "f.Storage()  "
   ]
  },
  {
   "cell_type": "markdown",
   "id": "d6bc51ed",
   "metadata": {},
   "source": [
    "## Multiple inheritance\n",
    "\n",
    "When a class is derived from more than one base class it is called multiple Inheritance. The derived class inherits all the features of the base case."
   ]
  },
  {
   "cell_type": "code",
   "execution_count": 75,
   "id": "81122690",
   "metadata": {},
   "outputs": [
    {
     "name": "stdout",
     "output_type": "stream",
     "text": [
      "threeeeeee\n"
     ]
    }
   ],
   "source": [
    "#Ex:\n",
    "class one:\n",
    "    def One(self):\n",
    "        print('oneeeeeeeee')\n",
    "class two:    \n",
    "    def Two(self):\n",
    "        print('twooooooooo')\n",
    "class three(one,two):\n",
    "        print('threeeeeee')"
   ]
  },
  {
   "cell_type": "code",
   "execution_count": 76,
   "id": "da194272",
   "metadata": {},
   "outputs": [],
   "source": [
    "obj=three()"
   ]
  },
  {
   "cell_type": "code",
   "execution_count": 99,
   "id": "a7186ebb",
   "metadata": {},
   "outputs": [
    {
     "name": "stdout",
     "output_type": "stream",
     "text": [
      "oneeeeeeeee\n",
      "twooooooooo\n"
     ]
    }
   ],
   "source": [
    "obj.One()\n",
    "obj.Two()"
   ]
  },
  {
   "cell_type": "markdown",
   "id": "ad9b7ad1",
   "metadata": {},
   "source": [
    "##### Here Class three acquires the properties of one and two.So it can access the function One."
   ]
  },
  {
   "cell_type": "markdown",
   "id": "c8078d15",
   "metadata": {},
   "source": [
    "# decorator"
   ]
  },
  {
   "cell_type": "markdown",
   "id": "53235b9f",
   "metadata": {},
   "source": [
    "In decorators we basically say that inside a function we can also give parameter as a function instead of a specific variable or message kind of things.\n",
    "\n"
   ]
  },
  {
   "cell_type": "code",
   "execution_count": 109,
   "id": "8fa0af99",
   "metadata": {},
   "outputs": [],
   "source": [
    "### Decorators\n",
    "def texts(func):\n",
    "    \n",
    "    def rabbit():\n",
    "        print(\"Welcome to my world\")\n",
    "        func()\n",
    "        print(\"How are you all\")\n",
    "    return rabbit()"
   ]
  },
  {
   "cell_type": "code",
   "execution_count": 115,
   "id": "8806543d",
   "metadata": {},
   "outputs": [
    {
     "name": "stdout",
     "output_type": "stream",
     "text": [
      "Welcome to my world\n",
      "Be a piece of peace\n",
      "How are you all\n"
     ]
    }
   ],
   "source": [
    "@texts\n",
    "def channel_name():\n",
    "    print(\"Be a piece of peace\")"
   ]
  },
  {
   "cell_type": "code",
   "execution_count": null,
   "id": "cba0fd1c",
   "metadata": {},
   "outputs": [],
   "source": []
  },
  {
   "cell_type": "code",
   "execution_count": null,
   "id": "93ef255f",
   "metadata": {},
   "outputs": [],
   "source": []
  },
  {
   "cell_type": "code",
   "execution_count": null,
   "id": "6552b07e",
   "metadata": {},
   "outputs": [],
   "source": []
  },
  {
   "cell_type": "code",
   "execution_count": null,
   "id": "d6f3c5b5",
   "metadata": {},
   "outputs": [],
   "source": []
  }
 ],
 "metadata": {
  "kernelspec": {
   "display_name": "Python 3 (ipykernel)",
   "language": "python",
   "name": "python3"
  },
  "language_info": {
   "codemirror_mode": {
    "name": "ipython",
    "version": 3
   },
   "file_extension": ".py",
   "mimetype": "text/x-python",
   "name": "python",
   "nbconvert_exporter": "python",
   "pygments_lexer": "ipython3",
   "version": "3.9.7"
  }
 },
 "nbformat": 4,
 "nbformat_minor": 5
}
